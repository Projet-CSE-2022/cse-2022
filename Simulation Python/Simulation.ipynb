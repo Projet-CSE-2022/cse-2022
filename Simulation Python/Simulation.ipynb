{
 "cells": [
  {
   "cell_type": "code",
   "execution_count": 94,
   "metadata": {},
   "outputs": [],
   "source": [
    "\n",
    "import numpy as np"
   ]
  },
  {
   "cell_type": "markdown",
   "metadata": {},
   "source": [
    "# Angle critique (statique)"
   ]
  },
  {
   "cell_type": "markdown",
   "metadata": {},
   "source": [
    "![Axes](RepereAxe.png)\n",
    "\n",
    "$\\alpha_{crit+} = \\frac{\\pi}{2} - \\arctan{\\frac{Cg_{z}}{Cg_{y}}}$\n",
    "\n",
    "$\\alpha_{crit-} = -\\frac{\\pi}{2} + \\arctan{\\frac{Cg_{z}}{(a - Cg_{y})}}$\n",
    "\n",
    "$\\beta_{crit+} = -\\frac{\\pi}{2} + \\arctan{\\frac{Cg_{z}}{(\\frac{b}{2}-Cg_{y})}}$\n",
    "\n",
    "$\\beta_{crit-} = \\frac{\\pi}{2} - \\arctan{\\frac{Cg_{z}}{(\\frac{b}{2}+Cg_{y})}}$"
   ]
  },
  {
   "cell_type": "code",
   "execution_count": 95,
   "metadata": {},
   "outputs": [],
   "source": [
    "a = 0.2 # Length of wheelchair\n",
    "b = 0.1 # Width of wheelchair\n",
    "\n",
    "Cg = np.array([0, 0.1, 0.1]) # Center of gravity [x, y, z]"
   ]
  },
  {
   "cell_type": "code",
   "execution_count": 96,
   "metadata": {},
   "outputs": [
    {
     "name": "stdout",
     "output_type": "stream",
     "text": [
      "Critical alpha + : 45.0\n",
      "Critical alpha - : -45.0\n",
      "Critical beta + : -26.56505117707799\n",
      "Critical beta - : 26.56505117707799\n"
     ]
    }
   ],
   "source": [
    "aplhaCritPlus = np.pi / 2 - np.arctan(Cg[2] / Cg[1]) # Critical angle\n",
    "print(\"Critical alpha + :\", aplhaCritPlus * 180 / np.pi)\n",
    "aplhaCritMinus = -np.pi / 2 + np.arctan(Cg[2] / (a - Cg[1])) # Critical angle\n",
    "print(\"Critical alpha - :\", aplhaCritMinus * 180 / np.pi)\n",
    "\n",
    "betaCritPlus = -np.pi / 2 + np.arctan(Cg[2] / (b / 2 + Cg[0])) # Critical angle\n",
    "print(\"Critical beta + :\", betaCritPlus * 180 / np.pi)\n",
    "betaCritMinus = np.pi / 2 - np.arctan(Cg[2] / (b / 2 - Cg[0])) # Critical angle\n",
    "print(\"Critical beta - :\", betaCritMinus * 180 / np.pi)"
   ]
  },
  {
   "cell_type": "markdown",
   "metadata": {},
   "source": [
    "# Accélération max"
   ]
  },
  {
   "cell_type": "code",
   "execution_count": 97,
   "metadata": {},
   "outputs": [],
   "source": [
    "alpha = 0 * np.pi / 180 # Angle of the slope [rad]\n",
    "beta = 0 * np.pi / 180 # Angle of the slope [rad]\n",
    "g = 9.81 # Gravity acceleration [m/s^2]\n",
    "acceleratingY = True # True if the wheelchair is accelerating in the y direction, False is decelerating\n",
    "acceleratingX = True # True if the wheelchair is accelerating in the x direction, False is decelerating"
   ]
  },
  {
   "cell_type": "code",
   "execution_count": 98,
   "metadata": {},
   "outputs": [
    {
     "name": "stdout",
     "output_type": "stream",
     "text": [
      "Acceleration max along y axis: 9.81 m/s^2\n",
      "Acceleration max along x axis: 4.905 m/s^2\n"
     ]
    }
   ],
   "source": [
    "a_y_lim = (Cg[1] if acceleratingY else (a - Cg[1])) / Cg[2] * g * np.cos(alpha) - g * np.sin(alpha)\n",
    "a_x_lim = ((b / 2 - Cg[0]) if acceleratingX else (b / 2 + Cg[0])) / Cg[2] * g * np.cos(beta) - g * np.sin(beta)\n",
    "\n",
    "print(\"Acceleration max along y axis:\", a_y_lim, \"m/s^2\")\n",
    "print(\"Acceleration max along x axis:\", a_x_lim, \"m/s^2\")"
   ]
  }
 ],
 "metadata": {
  "interpreter": {
   "hash": "ac59ebe37160ed0dfa835113d9b8498d9f09ceb179beaac4002f036b9467c963"
  },
  "kernelspec": {
   "display_name": "Python 3.9.7 64-bit",
   "language": "python",
   "name": "python3"
  },
  "language_info": {
   "codemirror_mode": {
    "name": "ipython",
    "version": 3
   },
   "file_extension": ".py",
   "mimetype": "text/x-python",
   "name": "python",
   "nbconvert_exporter": "python",
   "pygments_lexer": "ipython3",
   "version": "3.9.7"
  },
  "orig_nbformat": 4
 },
 "nbformat": 4,
 "nbformat_minor": 2
}
