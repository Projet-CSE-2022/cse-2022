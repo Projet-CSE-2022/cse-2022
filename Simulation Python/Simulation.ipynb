{
 "cells": [
  {
   "cell_type": "code",
   "execution_count": 55,
   "metadata": {},
   "outputs": [],
   "source": [
    "\n",
    "import numpy as np\n",
    "from turtle import *\n",
    " \n",
    "import turtle "
   ]
  },
  {
   "cell_type": "markdown",
   "metadata": {},
   "source": [
    "![Axes](RepereAxe.png)\n",
    "\n",
    "$\\alpha_{crit+} = \\frac{\\pi}{2} - atan(\\frac{Cg_{z}}{Cg_{y}})$\n",
    "\n",
    "$\\alpha_{crit-} = -\\frac{\\pi}{2} + atan(\\frac{Cg_{z}}{(a - Cg_{y})})$\n",
    "\n",
    "$\\beta_{crit+} = -\\frac{\\pi}{2} + atan(\\frac{Cg_{z}}{(\\frac{b}{2}-Cg_{y})})$\n",
    "\n",
    "$\\beta_{crit-} = \\frac{\\pi}{2} - atan(\\frac{Cg_{z}}{(\\frac{b}{2}+Cg_{y})})$"
   ]
  },
  {
   "cell_type": "code",
   "execution_count": 56,
   "metadata": {},
   "outputs": [],
   "source": [
    "a = 0.2 # Length of wheelchair\n",
    "b = 0.1 # Width of wheelchair\n",
    "\n",
    "Cg = np.array([0, 0.1, 0.1]) # Center of gravity [x, y, z]"
   ]
  },
  {
   "cell_type": "code",
   "execution_count": 57,
   "metadata": {},
   "outputs": [
    {
     "name": "stdout",
     "output_type": "stream",
     "text": [
      "Critical alpha + : 45.0\n",
      "Critical alpha - : -45.0\n",
      "Critical beta + : -26.56505117707799\n",
      "Critical beta - : 26.56505117707799\n"
     ]
    }
   ],
   "source": [
    "aplhaCritPlus = np.pi / 2 - np.arctan(Cg[2] / Cg[1]) # Critical angle\n",
    "print(\"Critical alpha + :\", aplhaCritPlus * 180 / np.pi)\n",
    "aplhaCritMinus = -np.pi / 2 + np.arctan(Cg[2] / (a - Cg[1])) # Critical angle\n",
    "print(\"Critical alpha - :\", aplhaCritMinus * 180 / np.pi)\n",
    "\n",
    "betaCritPlus = -np.pi / 2 + np.arctan(Cg[2] / (b / 2 + Cg[0])) # Critical angle\n",
    "print(\"Critical beta + :\", betaCritPlus * 180 / np.pi)\n",
    "betaCritMinus = np.pi / 2 - np.arctan(Cg[2] / (b / 2 - Cg[0])) # Critical angle\n",
    "print(\"Critical beta - :\", betaCritMinus * 180 / np.pi)"
   ]
  },
  {
   "cell_type": "code",
   "execution_count": 58,
   "metadata": {},
   "outputs": [],
   "source": [
    "# tur = turtle.Screen()\n",
    "  \n",
    "\n",
    "# tur.bgcolor(\"black\")\n",
    "  \n",
    "\n",
    "# tur.title(\"WheelChair simulation\")\n",
    "# turt = turtle.Turtle()\n",
    "  \n",
    "\n",
    "# turt.color(\"blue\")\n",
    "# tut = turtle.Screen()           \n",
    "\n",
    "\n",
    "# for i in range(4):\n",
    "#     turt.forward(100)\n",
    "#     turt.left(90)\n",
    "\n",
    "\n",
    "# turt.goto(50,50)\n",
    "  \n",
    "\n",
    "# for i in range(4):\n",
    "#     turt.forward(100)\n",
    "#     turt.left(90)\n",
    "\n",
    "# turt.goto(150,50)\n",
    "# turt.goto(100,0)\n",
    "  \n",
    "# turt.goto(0,0)\n",
    "\n",
    "# turt.goto(0,200)\n",
    "# turt.goto(50,250)\n",
    "# # turt.goto(100,100)\n",
    "# # turt.goto(150,150)\n",
    "  \n",
    "\n",
    "# # turt.goto(50,150)\n",
    "# # turt.goto(0,100)\n",
    "# turtle.done()"
   ]
  }
 ],
 "metadata": {
  "interpreter": {
   "hash": "ac59ebe37160ed0dfa835113d9b8498d9f09ceb179beaac4002f036b9467c963"
  },
  "kernelspec": {
   "display_name": "Python 3.9.7 64-bit",
   "language": "python",
   "name": "python3"
  },
  "language_info": {
   "codemirror_mode": {
    "name": "ipython",
    "version": 3
   },
   "file_extension": ".py",
   "mimetype": "text/x-python",
   "name": "python",
   "nbconvert_exporter": "python",
   "pygments_lexer": "ipython3",
   "version": "3.9.7"
  },
  "orig_nbformat": 4
 },
 "nbformat": 4,
 "nbformat_minor": 2
}
